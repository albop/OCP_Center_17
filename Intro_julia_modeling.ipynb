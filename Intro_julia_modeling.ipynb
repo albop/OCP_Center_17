{
 "cells": [
  {
   "cell_type": "code",
   "execution_count": null,
   "metadata": {
    "collapsed": true
   },
   "outputs": [],
   "source": []
  },
  {
   "cell_type": "markdown",
   "metadata": {},
   "source": [
    "# Setup environment"
   ]
  },
  {
   "cell_type": "markdown",
   "metadata": {},
   "source": [
    "* Install Dyno and Dolo"
   ]
  },
  {
   "cell_type": "code",
   "execution_count": null,
   "metadata": {
    "collapsed": true
   },
   "outputs": [],
   "source": [
    "#Pkg.clone(\"https://github.com/EconForge/splines.jl.git\")\n",
    "#Pkg.clone(\"https://github.com/EconForge/Dolang.jl.git\")\n",
    "#Pkg.clone(\"https://github.com/EconForge/Dyno.jl.git\")\n",
    "#Pkg.clone(\"https://github.com/EconForge/Dolo.jl.git\")"
   ]
  },
  {
   "cell_type": "code",
   "execution_count": 7,
   "metadata": {
    "collapsed": false
   },
   "outputs": [],
   "source": [
    "using Dyno"
   ]
  },
  {
   "cell_type": "markdown",
   "metadata": {},
   "source": [
    "# Perfect Foresight Simulation\n",
    "\n",
    "In this section, we use a modfile to describe the neoclassical model, then consider the effect of a temporary as well as a permanent increase in productivity."
   ]
  },
  {
   "cell_type": "markdown",
   "metadata": {},
   "source": [
    "## The model\n",
    "\n",
    "Explains capital accumulation driven by productivity increase.\n",
    "\n",
    "Capital law of motion: $k_t = (1-\\delta) k_{t-1} + i_{t-1}$.\n",
    "\n",
    "Production: $y_t = f(k_t) = A_t {k_t}^{\\alpha}$\n",
    "\n",
    "Consumption: $c_t = y_t - i_t$\n",
    "\n",
    "Instantaneous felicity: $U_t = \\frac{{c_t}^{1-\\gamma}}{1-\\gamma}$\n",
    "\n",
    "Optimal investment determined by maximization program: \n",
    "\n",
    "$$ \\max_{i_t} \\sum_t \\beta^t U \\left( c_t \\right) $$\n",
    "\n",
    "Euler equation:\n",
    "\n",
    "$$ 1 = E_t \\left[ \\frac{U^{\\prime}(c_{t+1})}{U^{\\prime}(c_t)} \\left( (1-\\delta) + f^{\\prime} ( k_{t+1} \\right) \\right] $$\n",
    "\n"
   ]
  },
  {
   "cell_type": "markdown",
   "metadata": {},
   "source": [
    "## Subsubsection"
   ]
  },
  {
   "cell_type": "markdown",
   "metadata": {},
   "source": [
    "* Write a modfile for the neoclassical model"
   ]
  },
  {
   "cell_type": "code",
   "execution_count": null,
   "metadata": {
    "collapsed": true
   },
   "outputs": [],
   "source": []
  },
  {
   "cell_type": "markdown",
   "metadata": {},
   "source": [
    "* Import the model (iterate with the step before)"
   ]
  },
  {
   "cell_type": "code",
   "execution_count": 6,
   "metadata": {
    "collapsed": false
   },
   "outputs": [
    {
     "name": "stdout",
     "output_type": "stream",
     "text": [
      "Starting Dynare (version 4.5-unstable).\n",
      "Starting preprocessing of the model file ...\n",
      "ERROR: Could not open file: neoclassical.mod\n"
     ]
    },
    {
     "ename": "LoadError",
     "evalue": "\u001b[91mModfile parsing failed\u001b[39m",
     "output_type": "error",
     "traceback": [
      "\u001b[91mModfile parsing failed\u001b[39m",
      "",
      "Stacktrace:",
      " [1] \u001b[1mread_modfile\u001b[22m\u001b[22m\u001b[1m(\u001b[22m\u001b[22m::String\u001b[1m)\u001b[22m\u001b[22m at \u001b[1m/home/pablo/.julia/v0.6/Dyno/src/model_import.jl:111\u001b[22m\u001b[22m",
      " [2] \u001b[1m#import_model#59\u001b[22m\u001b[22m at \u001b[1m/home/pablo/.julia/v0.6/Dyno/src/model_import.jl:176\u001b[22m\u001b[22m [inlined]",
      " [3] \u001b[1m(::Dyno.#kw##import_model)\u001b[22m\u001b[22m\u001b[1m(\u001b[22m\u001b[22m::Array{Any,1}, ::Dyno.#import_model, ::String\u001b[1m)\u001b[22m\u001b[22m at \u001b[1m./<missing>:0\u001b[22m\u001b[22m",
      " [4] \u001b[1mDyno.Model\u001b[22m\u001b[22m\u001b[1m(\u001b[22m\u001b[22m::String\u001b[1m)\u001b[22m\u001b[22m at \u001b[1m/home/pablo/.julia/v0.6/Dyno/src/model_import.jl:183\u001b[22m\u001b[22m"
     ]
    }
   ],
   "source": [
    "model = Dyno.Model(\"neoclassical.mod\")"
   ]
  },
  {
   "cell_type": "markdown",
   "metadata": {},
   "source": [
    "* Inspect model properties: `model.functions`, `model.symbols`, `model.exogenous`, `model.calibration`"
   ]
  },
  {
   "cell_type": "code",
   "execution_count": null,
   "metadata": {
    "collapsed": true
   },
   "outputs": [],
   "source": []
  },
  {
   "cell_type": "markdown",
   "metadata": {},
   "source": [
    "* Check residuals at the steady-state and compute jacobian (use `residuals()`)"
   ]
  },
  {
   "cell_type": "code",
   "execution_count": null,
   "metadata": {
    "collapsed": true
   },
   "outputs": [],
   "source": []
  },
  {
   "cell_type": "markdown",
   "metadata": {},
   "source": [
    "* Find the effect of a one-off shock to productivity (`e_0=0, e_1=0.01, e_t=0`). Use `deterministic()`"
   ]
  },
  {
   "cell_type": "code",
   "execution_count": null,
   "metadata": {
    "collapsed": true
   },
   "outputs": [],
   "source": []
  },
  {
   "cell_type": "markdown",
   "metadata": {},
   "source": [
    "* Plot the result (use `Gadfly` or `PyPlot`)"
   ]
  },
  {
   "cell_type": "code",
   "execution_count": null,
   "metadata": {
    "collapsed": true
   },
   "outputs": [],
   "source": []
  },
  {
   "cell_type": "markdown",
   "metadata": {},
   "source": [
    "* Find the effect of a permanent shock to productivity (`e_0=0, e_1=0.01, e_t=0.01`)"
   ]
  },
  {
   "cell_type": "markdown",
   "metadata": {},
   "source": [
    "# Stochastic simulations\n"
   ]
  },
  {
   "cell_type": "markdown",
   "metadata": {},
   "source": [
    "## RBC Model\n",
    "\n",
    "\n",
    "Explain business cycles\n",
    "\n",
    "Capital law of motion: $k_t = (1-\\delta) k_{t-1} + i_{t-1}$.\n",
    "\n",
    "Production: $y_t = f(k_t, l_t) = A_t {k_t}^{\\alpha}{l_t}^{1-\\alpha}$\n",
    "\n",
    "TFP shock: $A_t = \\rho_A A_{t-1} + \\epsilon_t$\n",
    "\n",
    "Consumption: $c_t = y_t - i_t$\n",
    "\n",
    "Felicity $U_t = \\frac{{c_t}^{1-\\gamma}}{1-\\gamma} - \\chi \\frac{(1-n_t)^{1-\\eta}}{1-\\eta}$\n",
    "\n",
    "Optimal investment determined by maximization program: \n",
    "\n",
    "$$ \\max_{f (k_t) \\geq i_t \\geq 0, l_t} \\sum_t \\beta^t U \\left( c_t \\right) $$\n",
    "\n",
    "Euler equations:\n",
    "\n",
    "$$ \\beta E_t \\left[ \\frac{c_{t+1}}{c_t} \\left( (1-\\delta) + f^{\\prime} ( k_{t+1} ) \\right) \\right] = 1$$\n",
    "\n",
    "$$ \\chi \\left(1-n\\right)^{-\\eta} = \\left(1-\\theta \\right)\\frac{y_t}{n_t}$$\n",
    "\n",
    "We consider the following calibraiton:\n",
    "\n",
    "$$\\beta=0.96$$\n",
    "$$\\alpha=0.33$$\n",
    "$$\\delta=0.01$$\n",
    "$$\\rho=0.95$$\n",
    "$$\\eta=2$$\n",
    "\n",
    "$\\eta$ is chosen so that $\\overline{n}=\\frac{1}{3}$."
   ]
  },
  {
   "cell_type": "markdown",
   "metadata": {},
   "source": [
    "## Solving the model"
   ]
  },
  {
   "cell_type": "markdown",
   "metadata": {},
   "source": [
    "* Write and import the model. Check residuals."
   ]
  },
  {
   "cell_type": "markdown",
   "metadata": {},
   "source": [
    "* Find first order solution. Inspect coefficients."
   ]
  },
  {
   "cell_type": "markdown",
   "metadata": {},
   "source": [
    "* Compute and plot IRFS `response()` (use Gadfly or PyPlot for the plots)"
   ]
  },
  {
   "cell_type": "markdown",
   "metadata": {},
   "source": [
    "* Compute asymptotic variance (hint: it satisfies Lyapunov Equation $S = ASA' + \\Sigma \\Sigma'$)"
   ]
  },
  {
   "cell_type": "markdown",
   "metadata": {},
   "source": [
    "* Perform Stochastic simulations (`simulate()`)"
   ]
  },
  {
   "cell_type": "markdown",
   "metadata": {},
   "source": [
    "* Compute Business Cycle moments"
   ]
  },
  {
   "cell_type": "markdown",
   "metadata": {},
   "source": [
    "## Extending with an open economy settings"
   ]
  },
  {
   "cell_type": "markdown",
   "metadata": {},
   "source": [
    "* Add a riskfree bond to the budget constraint and the associated Euler equation"
   ]
  },
  {
   "cell_type": "markdown",
   "metadata": {},
   "source": [
    "* Solve the model and compute the eigenvalues of the solution"
   ]
  },
  {
   "cell_type": "markdown",
   "metadata": {},
   "source": [
    "* Stabilize the model by using Usawa preferences / endogenous risk premium."
   ]
  },
  {
   "cell_type": "markdown",
   "metadata": {},
   "source": [
    "# Introduction to Dolo"
   ]
  },
  {
   "cell_type": "markdown",
   "metadata": {},
   "source": [
    "## Basics"
   ]
  },
  {
   "cell_type": "markdown",
   "metadata": {},
   "source": [
    "* Import basic RBC model (cf https://github.com/EconForge/dolo_models)"
   ]
  },
  {
   "cell_type": "markdown",
   "metadata": {},
   "source": [
    "* Solve basic RBC model"
   ]
  },
  {
   "cell_type": "markdown",
   "metadata": {},
   "source": [
    "* Plot decision rule"
   ]
  },
  {
   "cell_type": "markdown",
   "metadata": {},
   "source": [
    "* Simulate the solution, make plots"
   ]
  },
  {
   "cell_type": "markdown",
   "metadata": {},
   "source": [
    "## Driving processes"
   ]
  },
  {
   "cell_type": "markdown",
   "metadata": {},
   "source": [
    "* Change the driving process (IID, Markov Chain)"
   ]
  },
  {
   "cell_type": "markdown",
   "metadata": {},
   "source": [
    "## Occasionally Binding Constraints"
   ]
  },
  {
   "cell_type": "markdown",
   "metadata": {},
   "source": [
    "* Add a lower bound on investment to the RBC model"
   ]
  },
  {
   "cell_type": "markdown",
   "metadata": {},
   "source": [
    "* Solve the sudden stops model"
   ]
  },
  {
   "cell_type": "markdown",
   "metadata": {},
   "source": [
    "* Solve the nonlinear NK model with ZLB (using YAML file)"
   ]
  }
 ],
 "metadata": {
  "kernelspec": {
   "display_name": "Julia 0.6.0-rc1",
   "language": "julia",
   "name": "julia-0.6"
  },
  "language_info": {
   "file_extension": ".jl",
   "mimetype": "application/julia",
   "name": "julia",
   "version": "0.6.0"
  },
  "toc": {
   "colors": {
    "hover_highlight": "#DAA520",
    "navigate_num": "#000000",
    "navigate_text": "#333333",
    "running_highlight": "#FF0000",
    "selected_highlight": "#FFD700",
    "sidebar_border": "#EEEEEE",
    "wrapper_background": "#FFFFFF"
   },
   "moveMenuLeft": true,
   "nav_menu": {
    "height": "171px",
    "width": "252px"
   },
   "navigate_menu": true,
   "number_sections": true,
   "sideBar": true,
   "threshold": 4,
   "toc_cell": false,
   "toc_section_display": "block",
   "toc_window_display": false,
   "widenNotebook": false
  }
 },
 "nbformat": 4,
 "nbformat_minor": 2
}
